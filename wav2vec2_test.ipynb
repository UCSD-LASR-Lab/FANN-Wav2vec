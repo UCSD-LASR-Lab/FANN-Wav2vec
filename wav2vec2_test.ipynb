{
 "cells": [
  {
   "cell_type": "code",
   "execution_count": 1,
   "id": "53a0d876",
   "metadata": {},
   "outputs": [],
   "source": [
    "import os \n",
    "import torch \n",
    "import librosa \n",
    "import seaborn as sns\n",
    "import matplotlib.pyplot as plt \n",
    "from transformers import Wav2Vec2ForCTC, Wav2Vec2Processor"
   ]
  },
  {
   "cell_type": "code",
   "execution_count": 9,
   "id": "71e959e2",
   "metadata": {
    "scrolled": true
   },
   "outputs": [
    {
     "name": "stderr",
     "output_type": "stream",
     "text": [
      "Some weights of Wav2Vec2ForCTC were not initialized from the model checkpoint at facebook/wav2vec2-base-960h and are newly initialized: ['wav2vec2.masked_spec_embed']\n",
      "You should probably TRAIN this model on a down-stream task to be able to use it for predictions and inference.\n",
      "Some weights of Wav2Vec2ForCTC were not initialized from the model checkpoint at facebook/wav2vec2-large-960h and are newly initialized: ['wav2vec2.masked_spec_embed']\n",
      "You should probably TRAIN this model on a down-stream task to be able to use it for predictions and inference.\n"
     ]
    }
   ],
   "source": [
    "wav_path_kid = '/home/cogsci-lasrlab/Documents/FANN/K1_wav_kid'\n",
    "wav_path_adult = '/home/cogsci-lasrlab/Documents/FANN/K1_wav_adult'\n",
    "\n",
    "base_model = Wav2Vec2ForCTC.from_pretrained(\"facebook/wav2vec2-base-960h\")\n",
    "base_proc = Wav2Vec2Processor.from_pretrained(\"facebook/wav2vec2-base-960h\")\n",
    "\n",
    "large_model = Wav2Vec2ForCTC.from_pretrained(\"facebook/wav2vec2-large-960h\")\n",
    "large_proc = Wav2Vec2Processor.from_pretrained(\"facebook/wav2vec2-large-960h\")\n",
    "\n",
    "XLSR_53_model = Wav2Vec2ForCTC.from_pretrained(\"jonatasgrosman/wav2vec2-large-xlsr-53-english\")\n",
    "XLSR_53_proc = Wav2Vec2Processor.from_pretrained(\"jonatasgrosman/wav2vec2-large-xlsr-53-english\")"
   ]
  },
  {
   "cell_type": "code",
   "execution_count": 3,
   "id": "f34ff2ee",
   "metadata": {},
   "outputs": [],
   "source": [
    "def load_audio(file_path):\n",
    "    audio, _ = librosa.load(file_path, sr=16000)\n",
    "    return audio"
   ]
  },
  {
   "cell_type": "code",
   "execution_count": 4,
   "id": "e38f2229",
   "metadata": {},
   "outputs": [],
   "source": [
    "def transcribe_audio(model, proc, audio):\n",
    "    input_vals = proc(\n",
    "        audio, \n",
    "        return_tensors = 'pt',\n",
    "        sampling_rate = 16000\n",
    "    ).input_values \n",
    "    \n",
    "    with torch.no_grad():\n",
    "        logits = model(input_vals).logits \n",
    "        \n",
    "    predicted_ids = torch.argmax(logits, dim = -1)\n",
    "    predicted_word = proc.decode(predicted_ids[0])\n",
    "    \n",
    "    return predicted_word.lower()"
   ]
  },
  {
   "cell_type": "code",
   "execution_count": 5,
   "id": "169539d7",
   "metadata": {},
   "outputs": [],
   "source": [
    "def check_accuracy(target, prediction):\n",
    "    return target.lower() == prediction.lower()"
   ]
  },
  {
   "cell_type": "code",
   "execution_count": 6,
   "id": "a9b019ac",
   "metadata": {},
   "outputs": [],
   "source": [
    "def extract_target_word(filename):\n",
    "    parts = filename.split('_')\n",
    "    target_part = parts[-1]\n",
    "    target_word = target_part.split('.')[0]\n",
    "    \n",
    "    return target_word"
   ]
  },
  {
   "cell_type": "code",
   "execution_count": 14,
   "id": "af39def9",
   "metadata": {},
   "outputs": [],
   "source": [
    "base_correct = 0 \n",
    "large_correct = 0 \n",
    "XLSR_53_correct = 0\n",
    "total_words = 0 \n",
    "\n",
    "for file_name in os.listdir(wav_path_kid):\n",
    "    if file_name.endswith('.wav'):\n",
    "        file_path = os.path.join(wav_path_kid, file_name)\n",
    "        \n",
    "        try:\n",
    "            audio = load_audio(file_path)\n",
    "            target = extract_target_word(file_name)\n",
    "            #print(target)\n",
    "            \n",
    "            base_pred = transcribe_audio(base_model, base_proc, audio)\n",
    "            #print(base_pred)\n",
    "            base_correct += check_accuracy(target, base_pred)\n",
    "            \n",
    "            large_pred = transcribe_audio(large_model, large_proc, audio)\n",
    "            #print(large_pred)\n",
    "            large_correct += check_accuracy(target, large_pred)\n",
    "            \n",
    "            XLSR_53_pred = transcribe_audio(XLSR_53_model, XLSR_53_proc, audio)\n",
    "            XLSR_53_correct += check_accuracy(target, XLSR_53_pred)\n",
    "            \n",
    "            total_words += 1 \n",
    "            \n",
    "        except Exception as e:\n",
    "            print(f'Error processing file {file_name}: {e}')"
   ]
  },
  {
   "cell_type": "code",
   "execution_count": 15,
   "id": "ca835aa5",
   "metadata": {},
   "outputs": [
    {
     "data": {
      "image/png": "[encoded data removed]",
      "text/plain": [
       "<Figure size 640x480 with 1 Axes>"
      ]
     },
     "metadata": {},
     "output_type": "display_data"
    },
    {
     "name": "stdout",
     "output_type": "stream",
     "text": [
      "Base Model Accuracy: 19.51219512195122\n",
      "Large Model Accuracy: 24.390243902439025\n",
      "XLSR_53 Model Accuracy: 26.82926829268293\n",
      "Total Words Spoken: 82\n"
     ]
    }
   ],
   "source": [
    "base_accuracy = (base_correct / total_words) * 100\n",
    "large_accuracy = (large_correct / total_words) * 100\n",
    "XLSR_53_accuracy = (XLSR_53_correct / total_words) * 100\n",
    "\n",
    "models = ['Base Model', 'Large Model', 'XLSR_53 Model']\n",
    "accuracies = [base_accuracy, large_accuracy, XLSR_53_accuracy]\n",
    "\n",
    "plt.style.use('fivethirtyeight')\n",
    "sns.barplot(x = models, y = accuracies, palette = ['blue', 'red', 'green'])\n",
    "plt.xlabel('Model')\n",
    "plt.ylabel('Accuracy')\n",
    "plt.ylim(0, 100)\n",
    "plt.show()\n",
    "\n",
    "print(f'Base Model Accuracy: {base_accuracy}')\n",
    "print(f'Large Model Accuracy: {large_accuracy}')\n",
    "print(f'XLSR_53 Model Accuracy: {XLSR_53_accuracy}')\n",
    "print(f'Total Words Spoken: {total_words}')"
   ]
  },
  {
   "cell_type": "code",
   "execution_count": 12,
   "id": "e3c616b5",
   "metadata": {},
   "outputs": [],
   "source": [
    "base_correct = 0 \n",
    "large_correct = 0 \n",
    "XLSR_53_correct = 0\n",
    "total_words = 0 \n",
    "\n",
    "for file_name in os.listdir(wav_path_adult):\n",
    "    if file_name.endswith('.wav'):\n",
    "        file_path = os.path.join(wav_path_adult, file_name)\n",
    "        \n",
    "        try:\n",
    "            audio = load_audio(file_path)\n",
    "            target = extract_target_word(file_name)\n",
    "            #print(target)\n",
    "            \n",
    "            base_pred = transcribe_audio(base_model, base_proc, audio)\n",
    "            #print(base_pred)\n",
    "            base_correct += check_accuracy(target, base_pred)\n",
    "            \n",
    "            large_pred = transcribe_audio(large_model, large_proc, audio)\n",
    "            #print(large_pred)\n",
    "            large_correct += check_accuracy(target, large_pred)\n",
    "            \n",
    "            XLSR_53_pred = transcribe_audio(XLSR_53_model, XLSR_53_proc, audio)\n",
    "            XLSR_53_correct += check_accuracy(target, XLSR_53_pred)\n",
    "            \n",
    "            total_words += 1 \n",
    "            \n",
    "        except Exception as e:\n",
    "            print(f'Error processing file {file_name}: {e}')"
   ]
  },
  {
   "cell_type": "code",
   "execution_count": 13,
   "id": "9dbda608",
   "metadata": {},
   "outputs": [
    {
     "data": {
      "image/png": "[encoded data removed]",
      "text/plain": [
       "<Figure size 640x480 with 1 Axes>"
      ]
     },
     "metadata": {},
     "output_type": "display_data"
    },
    {
     "name": "stdout",
     "output_type": "stream",
     "text": [
      "Base Model Accuracy: 79.12087912087912\n",
      "Large Model Accuracy: 83.51648351648352\n",
      "XLSR_53 Model Accuracy: 81.31868131868131\n",
      "Total Words Spoken: 91\n"
     ]
    }
   ],
   "source": [
    "base_accuracy = (base_correct / total_words) * 100\n",
    "large_accuracy = (large_correct / total_words) * 100\n",
    "XLSR_53_accuracy = (XLSR_53_correct / total_words) * 100\n",
    "\n",
    "models = ['Base Model', 'Large Model', 'XLSR_53 Model']\n",
    "accuracies = [base_accuracy, large_accuracy, XLSR_53_accuracy]\n",
    "\n",
    "plt.style.use('fivethirtyeight')\n",
    "sns.barplot(x = models, y = accuracies, palette = ['blue', 'red', 'green'])\n",
    "plt.xlabel('Model')\n",
    "plt.ylabel('Accuracy')\n",
    "plt.ylim(0, 100)\n",
    "plt.show()\n",
    "\n",
    "print(f'Base Model Accuracy: {base_accuracy}')\n",
    "print(f'Large Model Accuracy: {large_accuracy}')\n",
    "print(f'XLSR_53 Model Accuracy: {XLSR_53_accuracy}')\n",
    "print(f'Total Words Spoken: {total_words}')"
   ]
  },
  {
   "cell_type": "code",
   "execution_count": null,
   "id": "7509da5c",
   "metadata": {},
   "outputs": [],
   "source": []
  }
 ],
 "metadata": {
  "kernelspec": {
   "display_name": "Python 3 (ipykernel)",
   "language": "python",
   "name": "python3"
  },
  "language_info": {
   "codemirror_mode": {
    "name": "ipython",
    "version": 3
   },
   "file_extension": ".py",
   "mimetype": "text/x-python",
   "name": "python",
   "nbconvert_exporter": "python",
   "pygments_lexer": "ipython3",
   "version": "3.11.5"
  }
 },
 "nbformat": 4,
 "nbformat_minor": 5
}
