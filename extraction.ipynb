{
 "cells": [
  {
   "cell_type": "code",
   "execution_count": 1,
   "id": "75108dc2",
   "metadata": {},
   "outputs": [],
   "source": [
    "import os \n",
    "import re\n",
    "import torch \n",
    "import librosa \n",
    "import scipy.signal as sig \n",
    "import soundfile as sf\n",
    "import numpy as np\n",
    "from transformers import Wav2Vec2ForCTC, Wav2Vec2Processor, WhisperProcessor, WhisperForConditionalGeneration"
   ]
  },
  {
   "cell_type": "code",
   "execution_count": 2,
   "id": "5c0a1c93",
   "metadata": {},
   "outputs": [],
   "source": [
    "# wv2_base_model = Wav2Vec2ForCTC.from_pretrained(\"facebook/wav2vec2-base-960h\")\n",
    "# wv2_base_proc = Wav2Vec2Processor.from_pretrained(\"facebook/wav2vec2-base-960h\")\n",
    "\n",
    "# wv2_large_model = Wav2Vec2ForCTC.from_pretrained(\"facebook/wav2vec2-large-960h\")\n",
    "# wv2_large_proc = Wav2Vec2Processor.from_pretrained(\"facebook/wav2vec2-large-960h\")"
   ]
  },
  {
   "cell_type": "code",
   "execution_count": 2,
   "id": "9140b734",
   "metadata": {
    "scrolled": true
   },
   "outputs": [],
   "source": [
    "whisper_large_model = WhisperForConditionalGeneration.from_pretrained(\"openai/whisper-large-v3-turbo\")\n",
    "whisper_large_proc = WhisperProcessor.from_pretrained(\"openai/whisper-large-v3-turbo\")"
   ]
  },
  {
   "cell_type": "code",
   "execution_count": 3,
   "id": "73d628b4",
   "metadata": {},
   "outputs": [],
   "source": [
    "wav_path_kid = '/home/cogsci-lasrlab/Documents/FANN/K1_wav_kid'\n",
    "wav_path_adult = '/home/cogsci-lasrlab/Documents/FANN/K1_wav_adult'"
   ]
  },
  {
   "cell_type": "code",
   "execution_count": 4,
   "id": "3ebb9131",
   "metadata": {},
   "outputs": [],
   "source": [
    "hotwords = {\n",
    "    'ring': ['ring', 'wing', 'thumb', 'sun'],\n",
    "    'wing': ['wing', 'ring', 'sun', 'thumb'],\n",
    "    'thumb': ['thumb', 'sun', 'ring', 'wing'],\n",
    "    'sun': ['thumb', 'sun', 'ring', 'wing', 'son'], \n",
    "    'fan': ['fan', 'sand', 'red', 'leg'], \n",
    "    'sand': ['fan', 'sand', 'red', 'leg'], \n",
    "    'red': ['fan', 'sand', 'red', 'leg'], \n",
    "    'leg': ['fan', 'sand', 'red', 'leg'], \n",
    "    'chip': ['chip', 'ship', 'run', 'one'],\n",
    "    'ship': ['chip', 'ship', 'run', 'one'],\n",
    "    'run': ['chip', 'ship', 'run', 'one'],\n",
    "    'one': ['chip', 'ship', 'run', 'one', 'won'],\n",
    "    'window': ['window', 'fox', 'socks', 'rainbow'], \n",
    "    'rainbow': ['window', 'fox', 'socks', 'rainbow'], \n",
    "    'fox': ['window', 'fox', 'socks', 'rainbow', 'sox'], \n",
    "    'socks': ['window', 'fox', 'socks', 'rainbow'], \n",
    "    'ramp': ['ramp', 'shoe', 'zoo', 'lamp'],\n",
    "    'lamp': ['ramp', 'shoe', 'zoo', 'lamp'],\n",
    "    'shoe': ['ramp', 'shoe', 'zoo', 'lamp', 'shoo', 'shue'],\n",
    "    'zoo': ['ramp', 'shoe', 'zoo', 'lamp'],\n",
    "    'chick': ['chick', 'sick', 'rock', 'lock'], \n",
    "    'sick': ['chick', 'sick', 'rock', 'lock'], \n",
    "    'rock': ['chick', 'sick', 'rock', 'lock'], \n",
    "    'lock': ['chick', 'sick', 'rock', 'lock', 'loch', 'locke'], \n",
    "}"
   ]
  },
  {
   "cell_type": "code",
   "execution_count": 5,
   "id": "e24b53f7",
   "metadata": {},
   "outputs": [],
   "source": [
    "whisper_vocab_dict = whisper_large_proc.tokenizer.get_vocab()\n",
    "sorted_whisper_vocab_dict = {k.replace('Ġ', ' '): v for k, v in sorted(whisper_vocab_dict.items(), key = lambda item: item[1])}"
   ]
  },
  {
   "cell_type": "code",
   "execution_count": 6,
   "id": "8403b589",
   "metadata": {},
   "outputs": [],
   "source": [
    "def clean(text):\n",
    "    text = re.sub(r'\\<\\|[^)]*?\\|\\>', '', text).strip()\n",
    "    text = re.sub(r'-.!', '', text).strip()\n",
    "    text = re.sub(r\"[^\\w\\s]\", \"\", text).strip()\n",
    "    text = text.replace('(', '')\n",
    "    text = text.replace('\\n', '')\n",
    "    text = text.replace(')', '')\n",
    "    text = text.replace('?', '')\n",
    "    text = text.lower()\n",
    "    text = text.encode('ascii', 'ignore').decode('ascii')\n",
    "    return text"
   ]
  },
  {
   "cell_type": "code",
   "execution_count": 7,
   "id": "5f195b04",
   "metadata": {},
   "outputs": [],
   "source": [
    "def extract_target_word(filename):\n",
    "    parts = filename.split('_')\n",
    "    target_part = parts[-1]\n",
    "    target_word = target_part.split('.')[0]\n",
    "    \n",
    "    return target_word"
   ]
  },
  {
   "cell_type": "code",
   "execution_count": 8,
   "id": "a0ce595d",
   "metadata": {},
   "outputs": [],
   "source": [
    "from pyctcdecode import build_ctcdecoder\n",
    "\n",
    "def preprocess(target):\n",
    "    count = 0 \n",
    "    new_dict = {}\n",
    "    for k, v in sorted_whisper_vocab_dict.items():\n",
    "        for h in hotwords[target]:\n",
    "            if h in k or h.upper() in k.upper() or h.lower() in k.lower():\n",
    "                count += 1\n",
    "                new_dict[k] = v\n",
    "            \n",
    "            if len(k) < 2 or '<|' in k:\n",
    "                count += 1\n",
    "                new_dict[k] = v\n",
    "    \n",
    "    ind_list = [v for v in new_dict.values()]\n",
    "    decoder = build_ctcdecoder(list(new_dict.keys()), kenlm_model_path = None) \n",
    "    \n",
    "    return ind_list, decoder "
   ]
  },
  {
   "cell_type": "code",
   "execution_count": null,
   "id": "aa65e3dc",
   "metadata": {},
   "outputs": [
    {
     "name": "stderr",
     "output_type": "stream",
     "text": [
      "Found entries of length > 1 in alphabet. This is unusual unless style is BPE, but the alphabet was not recognized as BPE type. Is this correct?\n",
      "/home/cogsci-lasrlab/anaconda3/lib/python3.11/site-packages/transformers/generation/configuration_utils.py:818: UserWarning: `return_dict_in_generate` is NOT set to `True`, but `output_scores` is. When `return_dict_in_generate` is not `True`, `output_scores` is ignored.\n",
      "  warnings.warn(\n",
      "Due to a bug fix in https://github.com/huggingface/transformers/pull/28687 transcription using a multilingual Whisper will default to language detection followed by transcription instead of translation to English.This might be a breaking change for your use case. If you want to instead always translate your audio to English, make sure to pass `language='en'`.\n",
      "Passing a tuple of `past_key_values` is deprecated and will be removed in Transformers v4.43.0. You should pass an instance of `EncoderDecoderCache` instead, e.g. `past_key_values=EncoderDecoderCache.from_legacy_cache(past_key_values)`.\n",
      "The attention mask is not set and cannot be inferred from input because pad token is same as eos token. As a consequence, you may observe unexpected behavior. Please pass your input's `attention_mask` to obtain reliable results.\n",
      "From v4.47 onwards, when a model cache is to be returned, `generate` will return a `Cache` instance instead by default (as opposed to the legacy tuple of tuples format). If you want to keep returning the legacy format, please set `return_legacy_cache=True`.\n",
      "Found entries of length > 1 in alphabet. This is unusual unless style is BPE, but the alphabet was not recognized as BPE type. Is this correct?\n"
     ]
    },
    {
     "name": "stdout",
     "output_type": "stream",
     "text": [
      "thumb {'thumb': 0, 'sun': 0, 'ring': 0, 'wing': 0}\n"
     ]
    },
    {
     "name": "stderr",
     "output_type": "stream",
     "text": [
      "Found entries of length > 1 in alphabet. This is unusual unless style is BPE, but the alphabet was not recognized as BPE type. Is this correct?\n"
     ]
    },
    {
     "name": "stdout",
     "output_type": "stream",
     "text": [
      "red {'fan': 0, 'sand': 0, 'red': 1.00000000000004, 'leg': 0}\n"
     ]
    },
    {
     "name": "stderr",
     "output_type": "stream",
     "text": [
      "Found entries of length > 1 in alphabet. This is unusual unless style is BPE, but the alphabet was not recognized as BPE type. Is this correct?\n"
     ]
    },
    {
     "name": "stdout",
     "output_type": "stream",
     "text": [
      "one {'chip': 0, 'ship': 0, 'run': 0, 'one': 1.00000000000004, 'won': 0}\n"
     ]
    },
    {
     "name": "stderr",
     "output_type": "stream",
     "text": [
      "Found entries of length > 1 in alphabet. This is unusual unless style is BPE, but the alphabet was not recognized as BPE type. Is this correct?\n"
     ]
    },
    {
     "name": "stdout",
     "output_type": "stream",
     "text": [
      "fan {'fan': 1.00000000000004, 'sand': 0, 'red': 0, 'leg': 0}\n"
     ]
    },
    {
     "name": "stderr",
     "output_type": "stream",
     "text": [
      "Found entries of length > 1 in alphabet. This is unusual unless style is BPE, but the alphabet was not recognized as BPE type. Is this correct?\n"
     ]
    },
    {
     "name": "stdout",
     "output_type": "stream",
     "text": [
      "leg {'fan': 0, 'sand': 0, 'red': 0, 'leg': 1.0000000060726366}\n"
     ]
    },
    {
     "name": "stderr",
     "output_type": "stream",
     "text": [
      "Found entries of length > 1 in alphabet. This is unusual unless style is BPE, but the alphabet was not recognized as BPE type. Is this correct?\n"
     ]
    },
    {
     "name": "stdout",
     "output_type": "stream",
     "text": [
      "chip {'chip': 1.00000000000004, 'ship': 0, 'run': 0, 'one': 0}\n"
     ]
    },
    {
     "name": "stderr",
     "output_type": "stream",
     "text": [
      "Found entries of length > 1 in alphabet. This is unusual unless style is BPE, but the alphabet was not recognized as BPE type. Is this correct?\n"
     ]
    },
    {
     "name": "stdout",
     "output_type": "stream",
     "text": [
      "fox {'window': 0, 'fox': 1.00000000000004, 'socks': 0, 'rainbow': 0, 'sox': 0}\n"
     ]
    },
    {
     "name": "stderr",
     "output_type": "stream",
     "text": [
      "Found entries of length > 1 in alphabet. This is unusual unless style is BPE, but the alphabet was not recognized as BPE type. Is this correct?\n"
     ]
    },
    {
     "name": "stdout",
     "output_type": "stream",
     "text": [
      "lamp {'ramp': 0, 'shoe': 0, 'zoo': 0, 'lamp': 1.00000000000004}\n"
     ]
    },
    {
     "name": "stderr",
     "output_type": "stream",
     "text": [
      "Found entries of length > 1 in alphabet. This is unusual unless style is BPE, but the alphabet was not recognized as BPE type. Is this correct?\n"
     ]
    },
    {
     "name": "stdout",
     "output_type": "stream",
     "text": [
      "red {'fan': 0, 'sand': 0, 'red': 1.00000000000004, 'leg': 0}\n"
     ]
    },
    {
     "name": "stderr",
     "output_type": "stream",
     "text": [
      "Found entries of length > 1 in alphabet. This is unusual unless style is BPE, but the alphabet was not recognized as BPE type. Is this correct?\n"
     ]
    },
    {
     "name": "stdout",
     "output_type": "stream",
     "text": [
      "chip {'chip': 1.00000000000004, 'ship': 0, 'run': 0, 'one': 0}\n"
     ]
    },
    {
     "name": "stderr",
     "output_type": "stream",
     "text": [
      "Found entries of length > 1 in alphabet. This is unusual unless style is BPE, but the alphabet was not recognized as BPE type. Is this correct?\n"
     ]
    },
    {
     "name": "stdout",
     "output_type": "stream",
     "text": [
      "fan {'fan': 0, 'sand': 0, 'red': 0, 'leg': 0}\n"
     ]
    },
    {
     "name": "stderr",
     "output_type": "stream",
     "text": [
      "Found entries of length > 1 in alphabet. This is unusual unless style is BPE, but the alphabet was not recognized as BPE type. Is this correct?\n"
     ]
    },
    {
     "name": "stdout",
     "output_type": "stream",
     "text": [
      "lamp {'ramp': 0, 'shoe': 0, 'zoo': 0, 'lamp': 1.00000000000004}\n"
     ]
    },
    {
     "name": "stderr",
     "output_type": "stream",
     "text": [
      "Found entries of length > 1 in alphabet. This is unusual unless style is BPE, but the alphabet was not recognized as BPE type. Is this correct?\n"
     ]
    },
    {
     "name": "stdout",
     "output_type": "stream",
     "text": [
      "socks {'window': 0, 'fox': 0, 'socks': 0, 'rainbow': 0}\n"
     ]
    },
    {
     "name": "stderr",
     "output_type": "stream",
     "text": [
      "Found entries of length > 1 in alphabet. This is unusual unless style is BPE, but the alphabet was not recognized as BPE type. Is this correct?\n"
     ]
    },
    {
     "name": "stdout",
     "output_type": "stream",
     "text": [
      "ring {'ring': 1.00000000000004, 'wing': 0, 'thumb': 0, 'sun': 0}\n"
     ]
    },
    {
     "name": "stderr",
     "output_type": "stream",
     "text": [
      "Found entries of length > 1 in alphabet. This is unusual unless style is BPE, but the alphabet was not recognized as BPE type. Is this correct?\n"
     ]
    },
    {
     "name": "stdout",
     "output_type": "stream",
     "text": [
      "sand {'fan': 0, 'sand': 1.00000000000004, 'red': 0, 'leg': 0}\n"
     ]
    },
    {
     "name": "stderr",
     "output_type": "stream",
     "text": [
      "Found entries of length > 1 in alphabet. This is unusual unless style is BPE, but the alphabet was not recognized as BPE type. Is this correct?\n"
     ]
    },
    {
     "name": "stdout",
     "output_type": "stream",
     "text": [
      "ramp {'ramp': 1.00000000000004, 'shoe': 0, 'zoo': 0, 'lamp': 0}\n"
     ]
    },
    {
     "name": "stderr",
     "output_type": "stream",
     "text": [
      "Found entries of length > 1 in alphabet. This is unusual unless style is BPE, but the alphabet was not recognized as BPE type. Is this correct?\n"
     ]
    },
    {
     "name": "stdout",
     "output_type": "stream",
     "text": [
      "ring {'ring': 1.00000000000004, 'wing': 0, 'thumb': 0, 'sun': 0}\n"
     ]
    },
    {
     "name": "stderr",
     "output_type": "stream",
     "text": [
      "Found entries of length > 1 in alphabet. This is unusual unless style is BPE, but the alphabet was not recognized as BPE type. Is this correct?\n"
     ]
    },
    {
     "name": "stdout",
     "output_type": "stream",
     "text": [
      "chick {'chick': 1.00000000000004, 'sick': 0, 'rock': 0, 'lock': 0}\n"
     ]
    },
    {
     "name": "stderr",
     "output_type": "stream",
     "text": [
      "Found entries of length > 1 in alphabet. This is unusual unless style is BPE, but the alphabet was not recognized as BPE type. Is this correct?\n"
     ]
    },
    {
     "name": "stdout",
     "output_type": "stream",
     "text": [
      "rock {'chick': 0, 'sick': 0, 'rock': 1.00000000000004, 'lock': 0}\n"
     ]
    },
    {
     "name": "stderr",
     "output_type": "stream",
     "text": [
      "Found entries of length > 1 in alphabet. This is unusual unless style is BPE, but the alphabet was not recognized as BPE type. Is this correct?\n"
     ]
    },
    {
     "name": "stdout",
     "output_type": "stream",
     "text": [
      "window {'window': 1.00000000000004, 'fox': 0, 'socks': 0, 'rainbow': 0}\n"
     ]
    },
    {
     "name": "stderr",
     "output_type": "stream",
     "text": [
      "Found entries of length > 1 in alphabet. This is unusual unless style is BPE, but the alphabet was not recognized as BPE type. Is this correct?\n"
     ]
    },
    {
     "name": "stdout",
     "output_type": "stream",
     "text": [
      "one {'chip': 0, 'ship': 0, 'run': 0, 'one': 1.00000000000004, 'won': 0}\n"
     ]
    },
    {
     "name": "stderr",
     "output_type": "stream",
     "text": [
      "Found entries of length > 1 in alphabet. This is unusual unless style is BPE, but the alphabet was not recognized as BPE type. Is this correct?\n"
     ]
    },
    {
     "name": "stdout",
     "output_type": "stream",
     "text": [
      "chip {'chip': 1.00000000000004, 'ship': 0, 'run': 0, 'one': 0}\n"
     ]
    },
    {
     "name": "stderr",
     "output_type": "stream",
     "text": [
      "Found entries of length > 1 in alphabet. This is unusual unless style is BPE, but the alphabet was not recognized as BPE type. Is this correct?\n"
     ]
    },
    {
     "name": "stdout",
     "output_type": "stream",
     "text": [
      "red {'fan': 0, 'sand': 0, 'red': 1.00000000000004, 'leg': 0}\n"
     ]
    },
    {
     "name": "stderr",
     "output_type": "stream",
     "text": [
      "Found entries of length > 1 in alphabet. This is unusual unless style is BPE, but the alphabet was not recognized as BPE type. Is this correct?\n"
     ]
    },
    {
     "name": "stdout",
     "output_type": "stream",
     "text": [
      "red {'fan': 0, 'sand': 0, 'red': 1.00000000000004, 'leg': 0}\n"
     ]
    },
    {
     "name": "stderr",
     "output_type": "stream",
     "text": [
      "Found entries of length > 1 in alphabet. This is unusual unless style is BPE, but the alphabet was not recognized as BPE type. Is this correct?\n"
     ]
    },
    {
     "name": "stdout",
     "output_type": "stream",
     "text": [
      "lamp {'ramp': 0, 'shoe': 0, 'zoo': 0, 'lamp': 1.00000000000004}\n"
     ]
    },
    {
     "name": "stderr",
     "output_type": "stream",
     "text": [
      "Found entries of length > 1 in alphabet. This is unusual unless style is BPE, but the alphabet was not recognized as BPE type. Is this correct?\n"
     ]
    },
    {
     "name": "stdout",
     "output_type": "stream",
     "text": [
      "window {'window': 1.00000000000004, 'fox': 0, 'socks': 0, 'rainbow': 0}\n"
     ]
    },
    {
     "name": "stderr",
     "output_type": "stream",
     "text": [
      "Found entries of length > 1 in alphabet. This is unusual unless style is BPE, but the alphabet was not recognized as BPE type. Is this correct?\n"
     ]
    },
    {
     "name": "stdout",
     "output_type": "stream",
     "text": [
      "sick {'chick': 0, 'sick': 1.00000000000004, 'rock': 0, 'lock': 0}\n"
     ]
    },
    {
     "name": "stderr",
     "output_type": "stream",
     "text": [
      "Found entries of length > 1 in alphabet. This is unusual unless style is BPE, but the alphabet was not recognized as BPE type. Is this correct?\n"
     ]
    },
    {
     "name": "stdout",
     "output_type": "stream",
     "text": [
      "ramp {'ramp': 1.00000000000004, 'shoe': 0, 'zoo': 0, 'lamp': 0}\n"
     ]
    },
    {
     "name": "stderr",
     "output_type": "stream",
     "text": [
      "Found entries of length > 1 in alphabet. This is unusual unless style is BPE, but the alphabet was not recognized as BPE type. Is this correct?\n"
     ]
    },
    {
     "name": "stdout",
     "output_type": "stream",
     "text": [
      "rock {'chick': 0, 'sick': 0, 'rock': 1.00000000000004, 'lock': 0}\n"
     ]
    },
    {
     "name": "stderr",
     "output_type": "stream",
     "text": [
      "Found entries of length > 1 in alphabet. This is unusual unless style is BPE, but the alphabet was not recognized as BPE type. Is this correct?\n"
     ]
    },
    {
     "name": "stdout",
     "output_type": "stream",
     "text": [
      "sand {'fan': 0, 'sand': 1.00000000000004, 'red': 0, 'leg': 0}\n"
     ]
    },
    {
     "name": "stderr",
     "output_type": "stream",
     "text": [
      "Found entries of length > 1 in alphabet. This is unusual unless style is BPE, but the alphabet was not recognized as BPE type. Is this correct?\n"
     ]
    },
    {
     "name": "stdout",
     "output_type": "stream",
     "text": [
      "fox {'window': 0, 'fox': 1.00000000000004, 'socks': 0, 'rainbow': 0, 'sox': 0}\n"
     ]
    },
    {
     "name": "stderr",
     "output_type": "stream",
     "text": [
      "Found entries of length > 1 in alphabet. This is unusual unless style is BPE, but the alphabet was not recognized as BPE type. Is this correct?\n"
     ]
    },
    {
     "name": "stdout",
     "output_type": "stream",
     "text": [
      "wing {'wing': 1.00000000000004, 'ring': 0, 'sun': 0, 'thumb': 0}\n"
     ]
    },
    {
     "name": "stderr",
     "output_type": "stream",
     "text": [
      "Found entries of length > 1 in alphabet. This is unusual unless style is BPE, but the alphabet was not recognized as BPE type. Is this correct?\n"
     ]
    },
    {
     "name": "stdout",
     "output_type": "stream",
     "text": [
      "window {'window': 1.00000000000004, 'fox': 0, 'socks': 0, 'rainbow': 0}\n"
     ]
    },
    {
     "name": "stderr",
     "output_type": "stream",
     "text": [
      "Found entries of length > 1 in alphabet. This is unusual unless style is BPE, but the alphabet was not recognized as BPE type. Is this correct?\n"
     ]
    },
    {
     "name": "stdout",
     "output_type": "stream",
     "text": [
      "red {'fan': 0, 'sand': 0, 'red': 1.00000000000004, 'leg': 0}\n"
     ]
    },
    {
     "name": "stderr",
     "output_type": "stream",
     "text": [
      "Found entries of length > 1 in alphabet. This is unusual unless style is BPE, but the alphabet was not recognized as BPE type. Is this correct?\n"
     ]
    },
    {
     "name": "stdout",
     "output_type": "stream",
     "text": [
      "lamp {'ramp': 0, 'shoe': 0, 'zoo': 0, 'lamp': 1.0000000000000406}\n"
     ]
    },
    {
     "name": "stderr",
     "output_type": "stream",
     "text": [
      "Found entries of length > 1 in alphabet. This is unusual unless style is BPE, but the alphabet was not recognized as BPE type. Is this correct?\n"
     ]
    },
    {
     "name": "stdout",
     "output_type": "stream",
     "text": [
      "chip {'chip': 1.00000000000004, 'ship': 0, 'run': 0, 'one': 0}\n"
     ]
    },
    {
     "name": "stderr",
     "output_type": "stream",
     "text": [
      "Found entries of length > 1 in alphabet. This is unusual unless style is BPE, but the alphabet was not recognized as BPE type. Is this correct?\n"
     ]
    },
    {
     "name": "stdout",
     "output_type": "stream",
     "text": [
      "chick {'chick': 1.00000000000004, 'sick': 0, 'rock': 0, 'lock': 0}\n"
     ]
    },
    {
     "name": "stderr",
     "output_type": "stream",
     "text": [
      "Found entries of length > 1 in alphabet. This is unusual unless style is BPE, but the alphabet was not recognized as BPE type. Is this correct?\n"
     ]
    },
    {
     "name": "stdout",
     "output_type": "stream",
     "text": [
      "rock {'chick': 0, 'sick': 0, 'rock': 1.00000000000004, 'lock': 0}\n"
     ]
    },
    {
     "name": "stderr",
     "output_type": "stream",
     "text": [
      "Found entries of length > 1 in alphabet. This is unusual unless style is BPE, but the alphabet was not recognized as BPE type. Is this correct?\n"
     ]
    },
    {
     "name": "stdout",
     "output_type": "stream",
     "text": [
      "window {'window': 1.00000000000004, 'fox': 0, 'socks': 0, 'rainbow': 0}\n"
     ]
    },
    {
     "name": "stderr",
     "output_type": "stream",
     "text": [
      "Found entries of length > 1 in alphabet. This is unusual unless style is BPE, but the alphabet was not recognized as BPE type. Is this correct?\n"
     ]
    },
    {
     "name": "stdout",
     "output_type": "stream",
     "text": [
      "leg {'fan': 0, 'sand': 0, 'red': 0, 'leg': 1.00000000000004}\n"
     ]
    },
    {
     "name": "stderr",
     "output_type": "stream",
     "text": [
      "Found entries of length > 1 in alphabet. This is unusual unless style is BPE, but the alphabet was not recognized as BPE type. Is this correct?\n"
     ]
    },
    {
     "name": "stdout",
     "output_type": "stream",
     "text": [
      "lock {'chick': 0, 'sick': 0, 'rock': 0, 'lock': 1.00000000000004, 'loch': 0, 'locke': 1.999999994411214e-15}\n"
     ]
    },
    {
     "name": "stderr",
     "output_type": "stream",
     "text": [
      "Found entries of length > 1 in alphabet. This is unusual unless style is BPE, but the alphabet was not recognized as BPE type. Is this correct?\n"
     ]
    },
    {
     "name": "stdout",
     "output_type": "stream",
     "text": [
      "wing {'wing': 0.6617756040880711, 'ring': 0.0001685117339805843, 'sun': 0, 'thumb': 0}\n"
     ]
    },
    {
     "name": "stderr",
     "output_type": "stream",
     "text": [
      "Found entries of length > 1 in alphabet. This is unusual unless style is BPE, but the alphabet was not recognized as BPE type. Is this correct?\n"
     ]
    },
    {
     "name": "stdout",
     "output_type": "stream",
     "text": [
      "lamp {'ramp': 0, 'shoe': 0, 'zoo': 0, 'lamp': 1.00000000000004}\n"
     ]
    },
    {
     "name": "stderr",
     "output_type": "stream",
     "text": [
      "Found entries of length > 1 in alphabet. This is unusual unless style is BPE, but the alphabet was not recognized as BPE type. Is this correct?\n"
     ]
    },
    {
     "name": "stdout",
     "output_type": "stream",
     "text": [
      "wing {'wing': 1.00000000000004, 'ring': 0, 'sun': 0, 'thumb': 0}\n"
     ]
    },
    {
     "name": "stderr",
     "output_type": "stream",
     "text": [
      "Found entries of length > 1 in alphabet. This is unusual unless style is BPE, but the alphabet was not recognized as BPE type. Is this correct?\n"
     ]
    },
    {
     "name": "stdout",
     "output_type": "stream",
     "text": [
      "sand {'fan': 0, 'sand': 1.00000000000004, 'red': 0, 'leg': 0}\n"
     ]
    },
    {
     "name": "stderr",
     "output_type": "stream",
     "text": [
      "Found entries of length > 1 in alphabet. This is unusual unless style is BPE, but the alphabet was not recognized as BPE type. Is this correct?\n"
     ]
    },
    {
     "name": "stdout",
     "output_type": "stream",
     "text": [
      "rainbow {'window': 0, 'fox': 0, 'socks': 0, 'rainbow': 1.00000000000004}\n"
     ]
    },
    {
     "name": "stderr",
     "output_type": "stream",
     "text": [
      "Found entries of length > 1 in alphabet. This is unusual unless style is BPE, but the alphabet was not recognized as BPE type. Is this correct?\n"
     ]
    },
    {
     "name": "stdout",
     "output_type": "stream",
     "text": [
      "lamp {'ramp': 0, 'shoe': 0, 'zoo': 0, 'lamp': 1.000000000000041}\n"
     ]
    },
    {
     "name": "stderr",
     "output_type": "stream",
     "text": [
      "Found entries of length > 1 in alphabet. This is unusual unless style is BPE, but the alphabet was not recognized as BPE type. Is this correct?\n"
     ]
    },
    {
     "name": "stdout",
     "output_type": "stream",
     "text": [
      "red {'fan': 0, 'sand': 0, 'red': 1.00000000000004, 'leg': 0}\n"
     ]
    },
    {
     "name": "stderr",
     "output_type": "stream",
     "text": [
      "Found entries of length > 1 in alphabet. This is unusual unless style is BPE, but the alphabet was not recognized as BPE type. Is this correct?\n"
     ]
    },
    {
     "name": "stdout",
     "output_type": "stream",
     "text": [
      "fox {'window': 0, 'fox': 1.00000000000004, 'socks': 0, 'rainbow': 0, 'sox': 0}\n"
     ]
    },
    {
     "name": "stderr",
     "output_type": "stream",
     "text": [
      "Found entries of length > 1 in alphabet. This is unusual unless style is BPE, but the alphabet was not recognized as BPE type. Is this correct?\n"
     ]
    },
    {
     "name": "stdout",
     "output_type": "stream",
     "text": [
      "lamp {'ramp': 0, 'shoe': 0, 'zoo': 0, 'lamp': 1.000000000000041}\n"
     ]
    },
    {
     "name": "stderr",
     "output_type": "stream",
     "text": [
      "Found entries of length > 1 in alphabet. This is unusual unless style is BPE, but the alphabet was not recognized as BPE type. Is this correct?\n"
     ]
    },
    {
     "name": "stdout",
     "output_type": "stream",
     "text": [
      "one {'chip': 0, 'ship': 0, 'run': 0, 'one': 1.00000000000004, 'won': 0}\n"
     ]
    },
    {
     "name": "stderr",
     "output_type": "stream",
     "text": [
      "Found entries of length > 1 in alphabet. This is unusual unless style is BPE, but the alphabet was not recognized as BPE type. Is this correct?\n"
     ]
    },
    {
     "name": "stdout",
     "output_type": "stream",
     "text": [
      "sand {'fan': 0, 'sand': 1.00000000000004, 'red': 0, 'leg': 0}\n"
     ]
    },
    {
     "name": "stderr",
     "output_type": "stream",
     "text": [
      "Found entries of length > 1 in alphabet. This is unusual unless style is BPE, but the alphabet was not recognized as BPE type. Is this correct?\n"
     ]
    },
    {
     "name": "stdout",
     "output_type": "stream",
     "text": [
      "fan {'fan': 1.00000000000004, 'sand': 0, 'red': 0, 'leg': 0}\n"
     ]
    },
    {
     "name": "stderr",
     "output_type": "stream",
     "text": [
      "Found entries of length > 1 in alphabet. This is unusual unless style is BPE, but the alphabet was not recognized as BPE type. Is this correct?\n"
     ]
    },
    {
     "name": "stdout",
     "output_type": "stream",
     "text": [
      "lock {'chick': 0, 'sick': 0, 'rock': 0, 'lock': 1.00000000000004, 'loch': 0, 'locke': 1.999999994411214e-15}\n"
     ]
    },
    {
     "name": "stderr",
     "output_type": "stream",
     "text": [
      "Found entries of length > 1 in alphabet. This is unusual unless style is BPE, but the alphabet was not recognized as BPE type. Is this correct?\n"
     ]
    },
    {
     "name": "stdout",
     "output_type": "stream",
     "text": [
      "red {'fan': 0, 'sand': 0, 'red': 1.00000000000004, 'leg': 0}\n"
     ]
    },
    {
     "name": "stderr",
     "output_type": "stream",
     "text": [
      "Found entries of length > 1 in alphabet. This is unusual unless style is BPE, but the alphabet was not recognized as BPE type. Is this correct?\n"
     ]
    },
    {
     "name": "stdout",
     "output_type": "stream",
     "text": [
      "ship {'chip': 0, 'ship': 1.00000000000004, 'run': 0, 'one': 0}\n"
     ]
    },
    {
     "name": "stderr",
     "output_type": "stream",
     "text": [
      "Found entries of length > 1 in alphabet. This is unusual unless style is BPE, but the alphabet was not recognized as BPE type. Is this correct?\n"
     ]
    },
    {
     "name": "stdout",
     "output_type": "stream",
     "text": [
      "ship {'chip': 0, 'ship': 1.00000000000004, 'run': 0, 'one': 0}\n"
     ]
    },
    {
     "name": "stderr",
     "output_type": "stream",
     "text": [
      "Found entries of length > 1 in alphabet. This is unusual unless style is BPE, but the alphabet was not recognized as BPE type. Is this correct?\n"
     ]
    },
    {
     "name": "stdout",
     "output_type": "stream",
     "text": [
      "fan {'fan': 1.00000000000004, 'sand': 0, 'red': 0, 'leg': 0}\n"
     ]
    },
    {
     "name": "stderr",
     "output_type": "stream",
     "text": [
      "Found entries of length > 1 in alphabet. This is unusual unless style is BPE, but the alphabet was not recognized as BPE type. Is this correct?\n"
     ]
    },
    {
     "name": "stdout",
     "output_type": "stream",
     "text": [
      "chick {'chick': 1.00000000000004, 'sick': 0, 'rock': 0, 'lock': 0}\n"
     ]
    },
    {
     "name": "stderr",
     "output_type": "stream",
     "text": [
      "Found entries of length > 1 in alphabet. This is unusual unless style is BPE, but the alphabet was not recognized as BPE type. Is this correct?\n"
     ]
    },
    {
     "name": "stdout",
     "output_type": "stream",
     "text": [
      "run {'chip': 0, 'ship': 0, 'run': 1.00000000000004, 'one': 0}\n"
     ]
    },
    {
     "name": "stderr",
     "output_type": "stream",
     "text": [
      "Found entries of length > 1 in alphabet. This is unusual unless style is BPE, but the alphabet was not recognized as BPE type. Is this correct?\n"
     ]
    },
    {
     "name": "stdout",
     "output_type": "stream",
     "text": [
      "sand {'fan': 0, 'sand': 1.00000000000004, 'red': 0, 'leg': 0}\n"
     ]
    },
    {
     "name": "stderr",
     "output_type": "stream",
     "text": [
      "Found entries of length > 1 in alphabet. This is unusual unless style is BPE, but the alphabet was not recognized as BPE type. Is this correct?\n"
     ]
    },
    {
     "name": "stdout",
     "output_type": "stream",
     "text": [
      "ship {'chip': 0, 'ship': 1.00000000000004, 'run': 0, 'one': 0}\n"
     ]
    },
    {
     "name": "stderr",
     "output_type": "stream",
     "text": [
      "Found entries of length > 1 in alphabet. This is unusual unless style is BPE, but the alphabet was not recognized as BPE type. Is this correct?\n"
     ]
    },
    {
     "name": "stdout",
     "output_type": "stream",
     "text": [
      "rainbow {'window': 0, 'fox': 0, 'socks': 0, 'rainbow': 1.00000000000004}\n"
     ]
    },
    {
     "name": "stderr",
     "output_type": "stream",
     "text": [
      "Found entries of length > 1 in alphabet. This is unusual unless style is BPE, but the alphabet was not recognized as BPE type. Is this correct?\n"
     ]
    },
    {
     "name": "stdout",
     "output_type": "stream",
     "text": [
      "zoo {'ramp': 0, 'shoe': 0, 'zoo': 1.00000000000004, 'lamp': 0}\n"
     ]
    },
    {
     "name": "stderr",
     "output_type": "stream",
     "text": [
      "Found entries of length > 1 in alphabet. This is unusual unless style is BPE, but the alphabet was not recognized as BPE type. Is this correct?\n"
     ]
    },
    {
     "name": "stdout",
     "output_type": "stream",
     "text": [
      "wing {'wing': 1.00000000000004, 'ring': 0, 'sun': 0, 'thumb': 0}\n"
     ]
    },
    {
     "name": "stderr",
     "output_type": "stream",
     "text": [
      "Found entries of length > 1 in alphabet. This is unusual unless style is BPE, but the alphabet was not recognized as BPE type. Is this correct?\n"
     ]
    },
    {
     "name": "stdout",
     "output_type": "stream",
     "text": [
      "red {'fan': 0, 'sand': 0, 'red': 1.00000000000004, 'leg': 0}\n"
     ]
    },
    {
     "name": "stderr",
     "output_type": "stream",
     "text": [
      "Found entries of length > 1 in alphabet. This is unusual unless style is BPE, but the alphabet was not recognized as BPE type. Is this correct?\n"
     ]
    },
    {
     "name": "stdout",
     "output_type": "stream",
     "text": [
      "chick {'chick': 1.00000000000004, 'sick': 0, 'rock': 0, 'lock': 0}\n"
     ]
    },
    {
     "name": "stderr",
     "output_type": "stream",
     "text": [
      "Found entries of length > 1 in alphabet. This is unusual unless style is BPE, but the alphabet was not recognized as BPE type. Is this correct?\n"
     ]
    },
    {
     "name": "stdout",
     "output_type": "stream",
     "text": [
      "ship {'chip': 0, 'ship': 1.00000000000004, 'run': 0, 'one': 0}\n"
     ]
    },
    {
     "name": "stderr",
     "output_type": "stream",
     "text": [
      "Found entries of length > 1 in alphabet. This is unusual unless style is BPE, but the alphabet was not recognized as BPE type. Is this correct?\n"
     ]
    },
    {
     "name": "stdout",
     "output_type": "stream",
     "text": [
      "one {'chip': 0, 'ship': 0, 'run': 0, 'one': 1.00000000000004, 'won': 0}\n"
     ]
    },
    {
     "name": "stderr",
     "output_type": "stream",
     "text": [
      "Found entries of length > 1 in alphabet. This is unusual unless style is BPE, but the alphabet was not recognized as BPE type. Is this correct?\n"
     ]
    },
    {
     "name": "stdout",
     "output_type": "stream",
     "text": [
      "ring {'ring': 1.00000000000004, 'wing': 0, 'thumb': 0, 'sun': 0}\n"
     ]
    },
    {
     "name": "stderr",
     "output_type": "stream",
     "text": [
      "Found entries of length > 1 in alphabet. This is unusual unless style is BPE, but the alphabet was not recognized as BPE type. Is this correct?\n"
     ]
    },
    {
     "name": "stdout",
     "output_type": "stream",
     "text": [
      "thumb {'thumb': 1.00000000000004, 'sun': 0, 'ring': 0, 'wing': 0}\n"
     ]
    },
    {
     "name": "stderr",
     "output_type": "stream",
     "text": [
      "Found entries of length > 1 in alphabet. This is unusual unless style is BPE, but the alphabet was not recognized as BPE type. Is this correct?\n"
     ]
    },
    {
     "name": "stdout",
     "output_type": "stream",
     "text": [
      "chick {'chick': 1.00000000000004, 'sick': 0, 'rock': 0, 'lock': 0}\n"
     ]
    },
    {
     "name": "stderr",
     "output_type": "stream",
     "text": [
      "Found entries of length > 1 in alphabet. This is unusual unless style is BPE, but the alphabet was not recognized as BPE type. Is this correct?\n"
     ]
    },
    {
     "name": "stdout",
     "output_type": "stream",
     "text": [
      "sick {'chick': 0, 'sick': 1.00000000000004, 'rock': 0, 'lock': 0}\n"
     ]
    },
    {
     "name": "stderr",
     "output_type": "stream",
     "text": [
      "Found entries of length > 1 in alphabet. This is unusual unless style is BPE, but the alphabet was not recognized as BPE type. Is this correct?\n"
     ]
    },
    {
     "name": "stdout",
     "output_type": "stream",
     "text": [
      "socks {'window': 0, 'fox': 0, 'socks': 1.00000000000004, 'rainbow': 0}\n"
     ]
    },
    {
     "name": "stderr",
     "output_type": "stream",
     "text": [
      "Found entries of length > 1 in alphabet. This is unusual unless style is BPE, but the alphabet was not recognized as BPE type. Is this correct?\n"
     ]
    },
    {
     "name": "stdout",
     "output_type": "stream",
     "text": [
      "socks {'window': 0, 'fox': 0, 'socks': 1.00000000000004, 'rainbow': 0}\n"
     ]
    },
    {
     "name": "stderr",
     "output_type": "stream",
     "text": [
      "Found entries of length > 1 in alphabet. This is unusual unless style is BPE, but the alphabet was not recognized as BPE type. Is this correct?\n"
     ]
    },
    {
     "name": "stdout",
     "output_type": "stream",
     "text": [
      "zoo {'ramp': 0, 'shoe': 0, 'zoo': 1.00000000000004, 'lamp': 0}\n"
     ]
    },
    {
     "name": "stderr",
     "output_type": "stream",
     "text": [
      "Found entries of length > 1 in alphabet. This is unusual unless style is BPE, but the alphabet was not recognized as BPE type. Is this correct?\n"
     ]
    },
    {
     "name": "stdout",
     "output_type": "stream",
     "text": [
      "sick {'chick': 0, 'sick': 1.00000000000004, 'rock': 0, 'lock': 0}\n"
     ]
    },
    {
     "name": "stderr",
     "output_type": "stream",
     "text": [
      "Found entries of length > 1 in alphabet. This is unusual unless style is BPE, but the alphabet was not recognized as BPE type. Is this correct?\n"
     ]
    },
    {
     "name": "stdout",
     "output_type": "stream",
     "text": [
      "shoe {'ramp': 0, 'shoe': 0, 'zoo': 0, 'lamp': 0, 'shoo': 0, 'shue': 0}\n"
     ]
    },
    {
     "name": "stderr",
     "output_type": "stream",
     "text": [
      "Found entries of length > 1 in alphabet. This is unusual unless style is BPE, but the alphabet was not recognized as BPE type. Is this correct?\n"
     ]
    },
    {
     "name": "stdout",
     "output_type": "stream",
     "text": [
      "rock {'chick': 0, 'sick': 0, 'rock': 1.00000000000004, 'lock': 0}\n"
     ]
    },
    {
     "name": "stderr",
     "output_type": "stream",
     "text": [
      "Found entries of length > 1 in alphabet. This is unusual unless style is BPE, but the alphabet was not recognized as BPE type. Is this correct?\n"
     ]
    },
    {
     "name": "stdout",
     "output_type": "stream",
     "text": [
      "chick {'chick': 0.0017873531466577226, 'sick': 0.0011859144519423092, 'rock': 0.0010867767719941288, 'lock': 0.0010750475971025692}\n"
     ]
    },
    {
     "name": "stderr",
     "output_type": "stream",
     "text": [
      "Found entries of length > 1 in alphabet. This is unusual unless style is BPE, but the alphabet was not recognized as BPE type. Is this correct?\n"
     ]
    },
    {
     "name": "stdout",
     "output_type": "stream",
     "text": [
      "ship {'chip': 0, 'ship': 1.00000000000004, 'run': 0, 'one': 0}\n"
     ]
    },
    {
     "name": "stderr",
     "output_type": "stream",
     "text": [
      "Found entries of length > 1 in alphabet. This is unusual unless style is BPE, but the alphabet was not recognized as BPE type. Is this correct?\n"
     ]
    },
    {
     "name": "stdout",
     "output_type": "stream",
     "text": [
      "lock {'chick': 0, 'sick': 0, 'rock': 0, 'lock': 1.00000000000004, 'loch': 0, 'locke': 1.999999994411214e-15}\n"
     ]
    },
    {
     "name": "stderr",
     "output_type": "stream",
     "text": [
      "Found entries of length > 1 in alphabet. This is unusual unless style is BPE, but the alphabet was not recognized as BPE type. Is this correct?\n"
     ]
    },
    {
     "name": "stdout",
     "output_type": "stream",
     "text": [
      "fan {'fan': 1.00000000000004, 'sand': 0, 'red': 0, 'leg': 0}\n"
     ]
    },
    {
     "name": "stderr",
     "output_type": "stream",
     "text": [
      "Found entries of length > 1 in alphabet. This is unusual unless style is BPE, but the alphabet was not recognized as BPE type. Is this correct?\n"
     ]
    },
    {
     "name": "stdout",
     "output_type": "stream",
     "text": [
      "chip {'chip': 1.00000000000004, 'ship': 0, 'run': 0, 'one': 0}\n"
     ]
    },
    {
     "name": "stderr",
     "output_type": "stream",
     "text": [
      "Found entries of length > 1 in alphabet. This is unusual unless style is BPE, but the alphabet was not recognized as BPE type. Is this correct?\n"
     ]
    },
    {
     "name": "stdout",
     "output_type": "stream",
     "text": [
      "rock {'chick': 0, 'sick': 0, 'rock': 1.00000000000004, 'lock': 0}\n"
     ]
    },
    {
     "name": "stderr",
     "output_type": "stream",
     "text": [
      "Found entries of length > 1 in alphabet. This is unusual unless style is BPE, but the alphabet was not recognized as BPE type. Is this correct?\n"
     ]
    },
    {
     "name": "stdout",
     "output_type": "stream",
     "text": [
      "sun {'thumb': 0, 'sun': 1.00000000000004, 'ring': 0, 'wing': 0, 'son': 0}\n"
     ]
    },
    {
     "name": "stderr",
     "output_type": "stream",
     "text": [
      "Found entries of length > 1 in alphabet. This is unusual unless style is BPE, but the alphabet was not recognized as BPE type. Is this correct?\n"
     ]
    },
    {
     "name": "stdout",
     "output_type": "stream",
     "text": [
      "lamp {'ramp': 0, 'shoe': 0, 'zoo': 0, 'lamp': 1.00000000000004}\n"
     ]
    },
    {
     "name": "stderr",
     "output_type": "stream",
     "text": [
      "Found entries of length > 1 in alphabet. This is unusual unless style is BPE, but the alphabet was not recognized as BPE type. Is this correct?\n"
     ]
    },
    {
     "name": "stdout",
     "output_type": "stream",
     "text": [
      "wing {'wing': 0, 'ring': 0.04351670400402118, 'sun': 0, 'thumb': 0}\n"
     ]
    },
    {
     "name": "stderr",
     "output_type": "stream",
     "text": [
      "Found entries of length > 1 in alphabet. This is unusual unless style is BPE, but the alphabet was not recognized as BPE type. Is this correct?\n"
     ]
    },
    {
     "name": "stdout",
     "output_type": "stream",
     "text": [
      "fan {'fan': 1.00000000000004, 'sand': 0, 'red': 0, 'leg': 0}\n"
     ]
    },
    {
     "name": "stderr",
     "output_type": "stream",
     "text": [
      "Found entries of length > 1 in alphabet. This is unusual unless style is BPE, but the alphabet was not recognized as BPE type. Is this correct?\n"
     ]
    },
    {
     "name": "stdout",
     "output_type": "stream",
     "text": [
      "socks {'window': 0, 'fox': 0, 'socks': 1.00000000000004, 'rainbow': 0}\n"
     ]
    },
    {
     "name": "stderr",
     "output_type": "stream",
     "text": [
      "Found entries of length > 1 in alphabet. This is unusual unless style is BPE, but the alphabet was not recognized as BPE type. Is this correct?\n"
     ]
    },
    {
     "name": "stdout",
     "output_type": "stream",
     "text": [
      "run {'chip': 0, 'ship': 0, 'run': 1.00000000000004, 'one': 0}\n"
     ]
    },
    {
     "name": "stderr",
     "output_type": "stream",
     "text": [
      "Found entries of length > 1 in alphabet. This is unusual unless style is BPE, but the alphabet was not recognized as BPE type. Is this correct?\n"
     ]
    },
    {
     "name": "stdout",
     "output_type": "stream",
     "text": [
      "fox {'window': 0.0003164537688885705, 'fox': 0.41519675505430875, 'socks': 0.0003844095811707694, 'rainbow': 0, 'sox': 0}\n"
     ]
    },
    {
     "name": "stderr",
     "output_type": "stream",
     "text": [
      "Found entries of length > 1 in alphabet. This is unusual unless style is BPE, but the alphabet was not recognized as BPE type. Is this correct?\n"
     ]
    },
    {
     "name": "stdout",
     "output_type": "stream",
     "text": [
      "chick {'chick': 1.00000000000004, 'sick': 0, 'rock': 0, 'lock': 0}\n"
     ]
    },
    {
     "name": "stderr",
     "output_type": "stream",
     "text": [
      "Found entries of length > 1 in alphabet. This is unusual unless style is BPE, but the alphabet was not recognized as BPE type. Is this correct?\n"
     ]
    },
    {
     "name": "stdout",
     "output_type": "stream",
     "text": [
      "red {'fan': 0, 'sand': 0, 'red': 1.00000000000004, 'leg': 0}\n"
     ]
    },
    {
     "name": "stderr",
     "output_type": "stream",
     "text": [
      "Found entries of length > 1 in alphabet. This is unusual unless style is BPE, but the alphabet was not recognized as BPE type. Is this correct?\n"
     ]
    },
    {
     "name": "stdout",
     "output_type": "stream",
     "text": [
      "chip {'chip': 1.00000000000004, 'ship': 0, 'run': 0, 'one': 0}\n"
     ]
    },
    {
     "name": "stderr",
     "output_type": "stream",
     "text": [
      "Found entries of length > 1 in alphabet. This is unusual unless style is BPE, but the alphabet was not recognized as BPE type. Is this correct?\n"
     ]
    },
    {
     "name": "stdout",
     "output_type": "stream",
     "text": [
      "wing {'wing': 1.00000000000004, 'ring': 0, 'sun': 0, 'thumb': 0}\n"
     ]
    },
    {
     "name": "stderr",
     "output_type": "stream",
     "text": [
      "Found entries of length > 1 in alphabet. This is unusual unless style is BPE, but the alphabet was not recognized as BPE type. Is this correct?\n"
     ]
    },
    {
     "name": "stdout",
     "output_type": "stream",
     "text": [
      "fox {'window': 0, 'fox': 1.00000000000004, 'socks': 0, 'rainbow': 0, 'sox': 0}\n"
     ]
    },
    {
     "name": "stderr",
     "output_type": "stream",
     "text": [
      "Found entries of length > 1 in alphabet. This is unusual unless style is BPE, but the alphabet was not recognized as BPE type. Is this correct?\n"
     ]
    },
    {
     "name": "stdout",
     "output_type": "stream",
     "text": [
      "rock {'chick': 0, 'sick': 0, 'rock': 1.00000000000004, 'lock': 0}\n"
     ]
    },
    {
     "name": "stderr",
     "output_type": "stream",
     "text": [
      "Found entries of length > 1 in alphabet. This is unusual unless style is BPE, but the alphabet was not recognized as BPE type. Is this correct?\n"
     ]
    },
    {
     "name": "stdout",
     "output_type": "stream",
     "text": [
      "chick {'chick': 1.00000000000004, 'sick': 0, 'rock': 0, 'lock': 0}\n"
     ]
    },
    {
     "name": "stderr",
     "output_type": "stream",
     "text": [
      "Found entries of length > 1 in alphabet. This is unusual unless style is BPE, but the alphabet was not recognized as BPE type. Is this correct?\n"
     ]
    },
    {
     "name": "stdout",
     "output_type": "stream",
     "text": [
      "chip {'chip': 1.00000000000004, 'ship': 0, 'run': 0, 'one': 0}\n"
     ]
    },
    {
     "name": "stderr",
     "output_type": "stream",
     "text": [
      "Found entries of length > 1 in alphabet. This is unusual unless style is BPE, but the alphabet was not recognized as BPE type. Is this correct?\n"
     ]
    },
    {
     "name": "stdout",
     "output_type": "stream",
     "text": [
      "ring {'ring': 1.00000000000004, 'wing': 0, 'thumb': 0, 'sun': 0}\n"
     ]
    },
    {
     "name": "stderr",
     "output_type": "stream",
     "text": [
      "Found entries of length > 1 in alphabet. This is unusual unless style is BPE, but the alphabet was not recognized as BPE type. Is this correct?\n"
     ]
    },
    {
     "name": "stdout",
     "output_type": "stream",
     "text": [
      "rainbow {'window': 0, 'fox': 0, 'socks': 0, 'rainbow': 1.00000000000004}\n"
     ]
    },
    {
     "name": "stderr",
     "output_type": "stream",
     "text": [
      "Found entries of length > 1 in alphabet. This is unusual unless style is BPE, but the alphabet was not recognized as BPE type. Is this correct?\n"
     ]
    },
    {
     "name": "stdout",
     "output_type": "stream",
     "text": [
      "thumb {'thumb': 0.0005247395624449684, 'sun': 0, 'ring': 0, 'wing': 0.0005006197463214405}\n"
     ]
    },
    {
     "name": "stderr",
     "output_type": "stream",
     "text": [
      "Found entries of length > 1 in alphabet. This is unusual unless style is BPE, but the alphabet was not recognized as BPE type. Is this correct?\n"
     ]
    },
    {
     "name": "stdout",
     "output_type": "stream",
     "text": [
      "one {'chip': 0, 'ship': 0, 'run': 0, 'one': 1.00000000000004, 'won': 0}\n"
     ]
    },
    {
     "name": "stderr",
     "output_type": "stream",
     "text": [
      "Found entries of length > 1 in alphabet. This is unusual unless style is BPE, but the alphabet was not recognized as BPE type. Is this correct?\n"
     ]
    },
    {
     "name": "stdout",
     "output_type": "stream",
     "text": [
      "fan {'fan': 1.00000000000004, 'sand': 0, 'red': 0, 'leg': 0}\n"
     ]
    }
   ],
   "source": [
    "count = 0 \n",
    "absolute = 0\n",
    "confident = 0 \n",
    "\n",
    "for file_name in os.listdir(wav_path_adult):\n",
    "    if file_name.endswith('.wav'):\n",
    "        file_path = os.path.join(wav_path_adult, file_name)\n",
    "        \n",
    "        try:\n",
    "            count += 1\n",
    "            audio_input, _ = librosa.load(file_path, sr = 16000)\n",
    "            target = extract_target_word(file_name)\n",
    "            ind_list, decoder = preprocess(target)\n",
    "            \n",
    "            input_values = whisper_large_proc(\n",
    "                audio_input, \n",
    "                sampling_rate = 16000, \n",
    "                return_tensors = \"pt\",\n",
    "                language = \"en\"\n",
    "            ).input_features\n",
    "\n",
    "            with torch.no_grad():\n",
    "                predicted_ids = whisper_large_model.generate(\n",
    "                    input_values, \n",
    "                    return_dict_in_generate = True, \n",
    "                    output_scores = True\n",
    "                )\n",
    "\n",
    "            comp = torch.stack(list(predicted_ids.scores), dim = 0).squeeze()\n",
    "            logits = torch.exp(comp).cpu().detach().numpy()\n",
    "\n",
    "            reduced_logits = logits[:, ind_list]\n",
    "\n",
    "            transcription = decoder.decode(\n",
    "                reduced_logits, \n",
    "                hotwords = hotwords,\n",
    "                hotword_weight = 100.0\n",
    "            )\n",
    "\n",
    "            text = clean(transcription).strip()\n",
    "            \n",
    "            new_tries = decoder.decode_beams(\n",
    "                reduced_logits, \n",
    "                hotword_weight = 100.0,\n",
    "                beam_width = 100,\n",
    "                token_min_logp = -100000,\n",
    "                beam_prune_logp = -100000\n",
    "            )\n",
    "            \n",
    "            target_hotwords = hotwords[target]\n",
    "            h_prob_dict = {h: 0 for h in target_hotwords}\n",
    "\n",
    "            for k in new_tries:\n",
    "                if clean(k[0]) in target_hotwords:\n",
    "                    h_prob_dict[clean(k[0])] += np.exp(k[3])\n",
    "\n",
    "            print(target, h_prob_dict)\n",
    "        \n",
    "        except Exception as e:\n",
    "            print(f'Error processing file {file_name}: {e}')"
   ]
  },
  {
   "cell_type": "code",
   "execution_count": null,
   "id": "f964721e",
   "metadata": {},
   "outputs": [],
   "source": [
    "# count = 0 \n",
    "# new_dict = {}\n",
    "# for k, v in sorted_whisper_vocab_dict.items():\n",
    "#     for h in hotwords: \n",
    "#         if h in k or h.upper() in k.upper() or h.lower() in k.lower():\n",
    "#             count += 1 \n",
    "#             new_dict[k] = v \n",
    "            \n",
    "#         if len(k) < 2 or '<|' in k: \n",
    "#             count += 1 \n",
    "#             new_dict[k] = v\n",
    "            \n",
    "# print(count)\n",
    "\n",
    "# ind_list = [v for v in new_dict.values()]"
   ]
  },
  {
   "cell_type": "code",
   "execution_count": null,
   "id": "0bcceee2",
   "metadata": {},
   "outputs": [],
   "source": [
    "from pyctcdecode import build_ctcdecoder\n",
    "\n",
    "decoder = build_ctcdecoder(list(new_dict.keys()), kenlm_model_path=None) "
   ]
  },
  {
   "cell_type": "code",
   "execution_count": null,
   "id": "4d0ddc9e",
   "metadata": {},
   "outputs": [],
   "source": [
    "audio_input, _ = librosa.load(chip_wav, sr=16000)\n",
    "input_values = whisper_large_proc(\n",
    "    audio_input, \n",
    "    sampling_rate=16000, \n",
    "    return_tensors=\"pt\"\n",
    ").input_features\n",
    "\n",
    "with torch.no_grad():\n",
    "    predicted_ids = whisper_large_model.generate(\n",
    "        input_values, \n",
    "        return_dict_in_generate=True, \n",
    "        output_scores=True\n",
    "    )\n",
    "    \n",
    "comp = torch.stack(list(predicted_ids.scores), dim=0).squeeze()\n",
    "logits = torch.exp(comp).cpu().detach().numpy()\n",
    "\n",
    "reduced_logits = logits[:, ind_list]\n",
    "\n",
    "transcription = decoder.decode(\n",
    "    reduced_logits, \n",
    "    hotwords=hotwords,\n",
    "    hotword_weight=100.0\n",
    ")\n",
    "\n",
    "text = clean(transcription).strip()\n",
    "print(text)"
   ]
  },
  {
   "cell_type": "code",
   "execution_count": null,
   "id": "cac1cb79",
   "metadata": {},
   "outputs": [],
   "source": [
    "new_tries = decoder.decode_beams(\n",
    "    reduced_logits, \n",
    "    hotword_weight=100.0,\n",
    "    beam_width=100,\n",
    "    token_min_logp=-100000,\n",
    "    beam_prune_logp=-100000\n",
    ")"
   ]
  },
  {
   "cell_type": "code",
   "execution_count": null,
   "id": "b7b05949",
   "metadata": {},
   "outputs": [],
   "source": [
    "h_prob_dict = {}\n",
    "for h in hotwords:\n",
    "    h_prob_dict[h] = 0\n",
    "    \n",
    "for k in new_tries:\n",
    "    if clean(k[0]) in hotwords:\n",
    "        h_prob_dict[clean(k[0])] += np.exp(k[3])\n",
    "        \n",
    "print(h_prob_dict)"
   ]
  }
 ],
 "metadata": {
  "kernelspec": {
   "display_name": "Python 3 (ipykernel)",
   "language": "python",
   "name": "python3"
  },
  "language_info": {
   "codemirror_mode": {
    "name": "ipython",
    "version": 3
   },
   "file_extension": ".py",
   "mimetype": "text/x-python",
   "name": "python",
   "nbconvert_exporter": "python",
   "pygments_lexer": "ipython3",
   "version": "3.11.5"
  }
 },
 "nbformat": 4,
 "nbformat_minor": 5
}
